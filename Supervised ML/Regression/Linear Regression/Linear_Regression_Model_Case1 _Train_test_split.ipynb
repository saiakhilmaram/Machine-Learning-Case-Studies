{
 "cells": [
  {
   "cell_type": "code",
   "execution_count": 1,
   "metadata": {
    "colab": {
     "base_uri": "https://localhost:8080/",
     "height": 206
    },
    "id": "JxOnQBu7j0B0",
    "outputId": "532eab30-6436-4f36-b65e-162074991dc7"
   },
   "outputs": [
    {
     "data": {
      "text/html": [
       "<div>\n",
       "<style scoped>\n",
       "    .dataframe tbody tr th:only-of-type {\n",
       "        vertical-align: middle;\n",
       "    }\n",
       "\n",
       "    .dataframe tbody tr th {\n",
       "        vertical-align: top;\n",
       "    }\n",
       "\n",
       "    .dataframe thead th {\n",
       "        text-align: right;\n",
       "    }\n",
       "</style>\n",
       "<table border=\"1\" class=\"dataframe\">\n",
       "  <thead>\n",
       "    <tr style=\"text-align: right;\">\n",
       "      <th></th>\n",
       "      <th>Serial No.</th>\n",
       "      <th>GRE Score</th>\n",
       "      <th>TOEFL Score</th>\n",
       "      <th>University Rating</th>\n",
       "      <th>SOP</th>\n",
       "      <th>LOR</th>\n",
       "      <th>CGPA</th>\n",
       "      <th>Research</th>\n",
       "      <th>Chance of Admit</th>\n",
       "    </tr>\n",
       "  </thead>\n",
       "  <tbody>\n",
       "    <tr>\n",
       "      <th>0</th>\n",
       "      <td>1</td>\n",
       "      <td>337</td>\n",
       "      <td>118</td>\n",
       "      <td>4</td>\n",
       "      <td>4.5</td>\n",
       "      <td>4.5</td>\n",
       "      <td>9.65</td>\n",
       "      <td>1</td>\n",
       "      <td>0.92</td>\n",
       "    </tr>\n",
       "    <tr>\n",
       "      <th>1</th>\n",
       "      <td>2</td>\n",
       "      <td>324</td>\n",
       "      <td>107</td>\n",
       "      <td>4</td>\n",
       "      <td>4.0</td>\n",
       "      <td>4.5</td>\n",
       "      <td>8.87</td>\n",
       "      <td>1</td>\n",
       "      <td>0.76</td>\n",
       "    </tr>\n",
       "    <tr>\n",
       "      <th>2</th>\n",
       "      <td>3</td>\n",
       "      <td>316</td>\n",
       "      <td>104</td>\n",
       "      <td>3</td>\n",
       "      <td>3.0</td>\n",
       "      <td>3.5</td>\n",
       "      <td>8.00</td>\n",
       "      <td>1</td>\n",
       "      <td>0.72</td>\n",
       "    </tr>\n",
       "    <tr>\n",
       "      <th>3</th>\n",
       "      <td>4</td>\n",
       "      <td>322</td>\n",
       "      <td>110</td>\n",
       "      <td>3</td>\n",
       "      <td>3.5</td>\n",
       "      <td>2.5</td>\n",
       "      <td>8.67</td>\n",
       "      <td>1</td>\n",
       "      <td>0.80</td>\n",
       "    </tr>\n",
       "    <tr>\n",
       "      <th>4</th>\n",
       "      <td>5</td>\n",
       "      <td>314</td>\n",
       "      <td>103</td>\n",
       "      <td>2</td>\n",
       "      <td>2.0</td>\n",
       "      <td>3.0</td>\n",
       "      <td>8.21</td>\n",
       "      <td>0</td>\n",
       "      <td>0.65</td>\n",
       "    </tr>\n",
       "  </tbody>\n",
       "</table>\n",
       "</div>"
      ],
      "text/plain": [
       "   Serial No.  GRE Score  TOEFL Score  University Rating  SOP  LOR   CGPA  \\\n",
       "0           1        337          118                  4  4.5   4.5  9.65   \n",
       "1           2        324          107                  4  4.0   4.5  8.87   \n",
       "2           3        316          104                  3  3.0   3.5  8.00   \n",
       "3           4        322          110                  3  3.5   2.5  8.67   \n",
       "4           5        314          103                  2  2.0   3.0  8.21   \n",
       "\n",
       "   Research  Chance of Admit   \n",
       "0         1              0.92  \n",
       "1         1              0.76  \n",
       "2         1              0.72  \n",
       "3         1              0.80  \n",
       "4         0              0.65  "
      ]
     },
     "execution_count": 1,
     "metadata": {},
     "output_type": "execute_result"
    }
   ],
   "source": [
    "import pandas as pd\n",
    "df = pd.read_csv('Admission_Predict.csv')\n",
    "df.head()"
   ]
  },
  {
   "cell_type": "code",
   "execution_count": 2,
   "metadata": {
    "colab": {
     "base_uri": "https://localhost:8080/"
    },
    "id": "Sg7iZW_ekwad",
    "outputId": "04088a81-e8e5-4b1c-ae65-cff14c3bda38"
   },
   "outputs": [
    {
     "data": {
      "text/plain": [
       "Serial No.           0\n",
       "GRE Score            0\n",
       "TOEFL Score          0\n",
       "University Rating    0\n",
       "SOP                  0\n",
       "LOR                  0\n",
       "CGPA                 0\n",
       "Research             0\n",
       "Chance of Admit      0\n",
       "dtype: int64"
      ]
     },
     "execution_count": 2,
     "metadata": {},
     "output_type": "execute_result"
    }
   ],
   "source": [
    "#Checking for Null Values\n",
    "df.isna().sum()"
   ]
  },
  {
   "cell_type": "code",
   "execution_count": 3,
   "metadata": {
    "colab": {
     "base_uri": "https://localhost:8080/",
     "height": 300
    },
    "id": "ojVYhsKkk1XC",
    "outputId": "b910f0c1-8eff-461e-932b-0b40d727f47f"
   },
   "outputs": [
    {
     "data": {
      "text/html": [
       "<div>\n",
       "<style scoped>\n",
       "    .dataframe tbody tr th:only-of-type {\n",
       "        vertical-align: middle;\n",
       "    }\n",
       "\n",
       "    .dataframe tbody tr th {\n",
       "        vertical-align: top;\n",
       "    }\n",
       "\n",
       "    .dataframe thead th {\n",
       "        text-align: right;\n",
       "    }\n",
       "</style>\n",
       "<table border=\"1\" class=\"dataframe\">\n",
       "  <thead>\n",
       "    <tr style=\"text-align: right;\">\n",
       "      <th></th>\n",
       "      <th>Serial No.</th>\n",
       "      <th>GRE Score</th>\n",
       "      <th>TOEFL Score</th>\n",
       "      <th>University Rating</th>\n",
       "      <th>SOP</th>\n",
       "      <th>LOR</th>\n",
       "      <th>CGPA</th>\n",
       "      <th>Research</th>\n",
       "      <th>Chance of Admit</th>\n",
       "    </tr>\n",
       "  </thead>\n",
       "  <tbody>\n",
       "    <tr>\n",
       "      <th>count</th>\n",
       "      <td>400.000000</td>\n",
       "      <td>400.000000</td>\n",
       "      <td>400.000000</td>\n",
       "      <td>400.000000</td>\n",
       "      <td>400.000000</td>\n",
       "      <td>400.000000</td>\n",
       "      <td>400.000000</td>\n",
       "      <td>400.000000</td>\n",
       "      <td>400.000000</td>\n",
       "    </tr>\n",
       "    <tr>\n",
       "      <th>mean</th>\n",
       "      <td>200.500000</td>\n",
       "      <td>316.807500</td>\n",
       "      <td>107.410000</td>\n",
       "      <td>3.087500</td>\n",
       "      <td>3.400000</td>\n",
       "      <td>3.452500</td>\n",
       "      <td>8.598925</td>\n",
       "      <td>0.547500</td>\n",
       "      <td>0.724350</td>\n",
       "    </tr>\n",
       "    <tr>\n",
       "      <th>std</th>\n",
       "      <td>115.614301</td>\n",
       "      <td>11.473646</td>\n",
       "      <td>6.069514</td>\n",
       "      <td>1.143728</td>\n",
       "      <td>1.006869</td>\n",
       "      <td>0.898478</td>\n",
       "      <td>0.596317</td>\n",
       "      <td>0.498362</td>\n",
       "      <td>0.142609</td>\n",
       "    </tr>\n",
       "    <tr>\n",
       "      <th>min</th>\n",
       "      <td>1.000000</td>\n",
       "      <td>290.000000</td>\n",
       "      <td>92.000000</td>\n",
       "      <td>1.000000</td>\n",
       "      <td>1.000000</td>\n",
       "      <td>1.000000</td>\n",
       "      <td>6.800000</td>\n",
       "      <td>0.000000</td>\n",
       "      <td>0.340000</td>\n",
       "    </tr>\n",
       "    <tr>\n",
       "      <th>25%</th>\n",
       "      <td>100.750000</td>\n",
       "      <td>308.000000</td>\n",
       "      <td>103.000000</td>\n",
       "      <td>2.000000</td>\n",
       "      <td>2.500000</td>\n",
       "      <td>3.000000</td>\n",
       "      <td>8.170000</td>\n",
       "      <td>0.000000</td>\n",
       "      <td>0.640000</td>\n",
       "    </tr>\n",
       "    <tr>\n",
       "      <th>50%</th>\n",
       "      <td>200.500000</td>\n",
       "      <td>317.000000</td>\n",
       "      <td>107.000000</td>\n",
       "      <td>3.000000</td>\n",
       "      <td>3.500000</td>\n",
       "      <td>3.500000</td>\n",
       "      <td>8.610000</td>\n",
       "      <td>1.000000</td>\n",
       "      <td>0.730000</td>\n",
       "    </tr>\n",
       "    <tr>\n",
       "      <th>75%</th>\n",
       "      <td>300.250000</td>\n",
       "      <td>325.000000</td>\n",
       "      <td>112.000000</td>\n",
       "      <td>4.000000</td>\n",
       "      <td>4.000000</td>\n",
       "      <td>4.000000</td>\n",
       "      <td>9.062500</td>\n",
       "      <td>1.000000</td>\n",
       "      <td>0.830000</td>\n",
       "    </tr>\n",
       "    <tr>\n",
       "      <th>max</th>\n",
       "      <td>400.000000</td>\n",
       "      <td>340.000000</td>\n",
       "      <td>120.000000</td>\n",
       "      <td>5.000000</td>\n",
       "      <td>5.000000</td>\n",
       "      <td>5.000000</td>\n",
       "      <td>9.920000</td>\n",
       "      <td>1.000000</td>\n",
       "      <td>0.970000</td>\n",
       "    </tr>\n",
       "  </tbody>\n",
       "</table>\n",
       "</div>"
      ],
      "text/plain": [
       "       Serial No.   GRE Score  TOEFL Score  University Rating         SOP  \\\n",
       "count  400.000000  400.000000   400.000000         400.000000  400.000000   \n",
       "mean   200.500000  316.807500   107.410000           3.087500    3.400000   \n",
       "std    115.614301   11.473646     6.069514           1.143728    1.006869   \n",
       "min      1.000000  290.000000    92.000000           1.000000    1.000000   \n",
       "25%    100.750000  308.000000   103.000000           2.000000    2.500000   \n",
       "50%    200.500000  317.000000   107.000000           3.000000    3.500000   \n",
       "75%    300.250000  325.000000   112.000000           4.000000    4.000000   \n",
       "max    400.000000  340.000000   120.000000           5.000000    5.000000   \n",
       "\n",
       "             LOR         CGPA    Research  Chance of Admit   \n",
       "count  400.000000  400.000000  400.000000        400.000000  \n",
       "mean     3.452500    8.598925    0.547500          0.724350  \n",
       "std      0.898478    0.596317    0.498362          0.142609  \n",
       "min      1.000000    6.800000    0.000000          0.340000  \n",
       "25%      3.000000    8.170000    0.000000          0.640000  \n",
       "50%      3.500000    8.610000    1.000000          0.730000  \n",
       "75%      4.000000    9.062500    1.000000          0.830000  \n",
       "max      5.000000    9.920000    1.000000          0.970000  "
      ]
     },
     "execution_count": 3,
     "metadata": {},
     "output_type": "execute_result"
    }
   ],
   "source": [
    "#Descriptive Statistics\n",
    "df.describe()"
   ]
  },
  {
   "cell_type": "code",
   "execution_count": 4,
   "metadata": {
    "id": "Kt9wqZ1Xk-9S"
   },
   "outputs": [],
   "source": [
    "#Business goal - Chance of admit probability prediction"
   ]
  },
  {
   "cell_type": "code",
   "execution_count": 5,
   "metadata": {
    "colab": {
     "base_uri": "https://localhost:8080/"
    },
    "id": "VX2oyO15lTWK",
    "outputId": "e2228434-8419-4e01-fe28-59f4bb7bf3b9"
   },
   "outputs": [
    {
     "name": "stdout",
     "output_type": "stream",
     "text": [
      "<class 'pandas.core.frame.DataFrame'>\n",
      "RangeIndex: 400 entries, 0 to 399\n",
      "Data columns (total 9 columns):\n",
      " #   Column             Non-Null Count  Dtype  \n",
      "---  ------             --------------  -----  \n",
      " 0   Serial No.         400 non-null    int64  \n",
      " 1   GRE Score          400 non-null    int64  \n",
      " 2   TOEFL Score        400 non-null    int64  \n",
      " 3   University Rating  400 non-null    int64  \n",
      " 4   SOP                400 non-null    float64\n",
      " 5   LOR                400 non-null    float64\n",
      " 6   CGPA               400 non-null    float64\n",
      " 7   Research           400 non-null    int64  \n",
      " 8   Chance of Admit    400 non-null    float64\n",
      "dtypes: float64(4), int64(5)\n",
      "memory usage: 28.2 KB\n"
     ]
    }
   ],
   "source": [
    "df.info()"
   ]
  },
  {
   "cell_type": "code",
   "execution_count": 6,
   "metadata": {
    "colab": {
     "base_uri": "https://localhost:8080/"
    },
    "id": "ymeAa24Glgmt",
    "outputId": "dd653f03-a037-4ea5-9c20-f60a2769fd7f"
   },
   "outputs": [
    {
     "data": {
      "text/plain": [
       "1    219\n",
       "0    181\n",
       "Name: Research, dtype: int64"
      ]
     },
     "execution_count": 6,
     "metadata": {},
     "output_type": "execute_result"
    }
   ],
   "source": [
    "df['Research'].value_counts()"
   ]
  },
  {
   "cell_type": "code",
   "execution_count": 7,
   "metadata": {
    "colab": {
     "base_uri": "https://localhost:8080/"
    },
    "id": "HuBeNXdpmhBs",
    "outputId": "1a52cb1f-8649-489e-aa11-1f9bf2c052c6"
   },
   "outputs": [
    {
     "data": {
      "text/plain": [
       "3    133\n",
       "2    107\n",
       "4     74\n",
       "5     60\n",
       "1     26\n",
       "Name: University Rating, dtype: int64"
      ]
     },
     "execution_count": 7,
     "metadata": {},
     "output_type": "execute_result"
    }
   ],
   "source": [
    "df['University Rating'].value_counts()"
   ]
  },
  {
   "cell_type": "code",
   "execution_count": 9,
   "metadata": {
    "id": "YqIesk2zmoFd"
   },
   "outputs": [],
   "source": [
    "y = df['Chance of Admit ']\n",
    "X = df.drop(['Serial No.','Chance of Admit '], axis=1)"
   ]
  },
  {
   "cell_type": "code",
   "execution_count": 11,
   "metadata": {
    "colab": {
     "base_uri": "https://localhost:8080/",
     "height": 206
    },
    "id": "HGEHgwApoDyH",
    "outputId": "66de5a40-ee8b-435f-feb7-18ece66b87d7"
   },
   "outputs": [],
   "source": [
    "#Splitting data into train and test\n",
    "from sklearn.model_selection import train_test_split\n",
    "X_train,X_test,y_train,y_test = train_test_split(X,y,test_size = 0.25,random_state=42)"
   ]
  },
  {
   "cell_type": "code",
   "execution_count": 13,
   "metadata": {},
   "outputs": [
    {
     "name": "stdout",
     "output_type": "stream",
     "text": [
      "(300, 7)\n",
      "(100, 7)\n"
     ]
    }
   ],
   "source": [
    "print(X_train.shape)\n",
    "print(X_test.shape)"
   ]
  },
  {
   "cell_type": "code",
   "execution_count": 15,
   "metadata": {
    "colab": {
     "base_uri": "https://localhost:8080/"
    },
    "id": "dAyRvmFppFzC",
    "outputId": "59c5d092-e07e-4e2b-9127-7f982f9d50a5"
   },
   "outputs": [
    {
     "name": "stdout",
     "output_type": "stream",
     "text": [
      "[0.6744615  0.68149206 0.71833893 0.79458076 0.74755077 0.60208704\n",
      " 0.65251418 0.64983124 0.65112424 0.61675381 0.71334347 0.62582139\n",
      " 0.55882403 0.5885123  0.83290245 0.6079263  0.45121444 0.88446036\n",
      " 0.77326583 0.81968373 0.62912639 0.70038716 0.66192818 0.44560267\n",
      " 0.9566507  0.79074998 0.78246654 0.65534331 0.64547058 0.80464469\n",
      " 0.84128524 0.74274727 0.78832563 0.77740749 0.78496844 0.72864948\n",
      " 0.80569574 0.68440962 0.80621702 0.82614621 0.65608942 0.77152642\n",
      " 0.5525432  0.7123127  0.62669381 0.93997062 0.62970537 0.77297709\n",
      " 0.79419157 0.63986228 0.71273739 0.7364399  0.78839086 0.89894734\n",
      " 0.73508137 0.82449763 0.69473549 0.95314997 0.54446366 0.72132536\n",
      " 0.54213043 0.62422949 0.89274303 0.57022539 0.60099624 0.76436434\n",
      " 0.48634712 0.69624867 0.82482536 0.73953636 0.5726882  0.85946317\n",
      " 0.6562695  0.59053082 0.98455883 0.56709236 0.85201884 0.6646317\n",
      " 0.82294506 0.95792047 0.54799495 0.80289563 0.65804281 0.57080716\n",
      " 0.7341684  0.69113248 0.65484369 0.67535271 0.56231584 0.70209581\n",
      " 0.67983018 0.6741309  0.82195601 0.68790689 0.73268529 0.70236407\n",
      " 0.93283058 0.52875325 0.74596661 0.71047408 0.74840946 0.98746816\n",
      " 0.78180522 0.84292238 0.74560642 0.92120604 0.51531912 0.83523437\n",
      " 0.8503923  0.85391577 0.78150521 0.67493618 0.63408387 0.53910958\n",
      " 0.71044382 0.51005591 0.51576253 0.69171498 0.9599703  0.85275455\n",
      " 0.90852124 0.83274378 0.94061402 0.6848458  0.7682571  0.73312286\n",
      " 0.64595208 0.83380459 0.6573619  0.67174524 0.79132636 0.88004496\n",
      " 0.8829567  0.76396532 0.94616827 0.61001939 0.61328617 0.78432066\n",
      " 0.52519928 0.70082784 0.6631941  0.74313974 0.76338357 0.67338456\n",
      " 0.49911927 0.88279171 0.73541512 0.92681284 0.79050559 0.70850256\n",
      " 0.78810467 0.70633681 0.68016624 0.56703995 0.88188873 0.51901834\n",
      " 0.78669983 0.71947622 0.78429442 0.737756   0.53905694 0.85152959\n",
      " 0.85464836 0.43538404 0.63974027 0.89400407 0.76049919 0.4808855\n",
      " 0.72482111 0.56936175 0.62023223 0.53162367 0.87262212 0.6546811\n",
      " 0.63825107 0.66167451 0.74949048 0.59354737 0.83152801 0.63488122\n",
      " 0.63856576 0.67894775 0.564004   0.73080004 0.68719371 0.78169658\n",
      " 0.96499987 0.87981299 0.89661014 0.90247878 0.62388693 0.93761876\n",
      " 0.92257735 0.68142148 0.70948347 0.78991015 0.52480974 0.7917136\n",
      " 0.71981322 0.8309638  0.77755258 0.70278856 0.62628247 0.82325784\n",
      " 0.64587116 0.76878823 0.81818535 0.55866854 0.75342131 0.60576526\n",
      " 0.64640876 0.65822292 0.65115524 0.72035418 0.6061496  0.85798415\n",
      " 0.69127665 0.51984468 0.85345095 0.65005339 0.96730876 0.66943079\n",
      " 0.75607907 0.72100728 0.63106521 0.84572389 0.74303748 0.69956668\n",
      " 0.71248099 0.50412561 0.84450306 0.8241099  0.84475314 0.70232289\n",
      " 0.9059621  0.78017546 0.69790599 0.80274404 0.75839083 0.645846\n",
      " 0.52538042 0.95010954 0.751375   0.543421   0.77557437 0.72632583\n",
      " 0.51801525 0.75835113 0.62214415 0.64656214 0.61385329 0.65992304\n",
      " 0.59249947 0.66313809 0.79001287 0.7106941  0.88199018 0.8146369\n",
      " 0.62101634 0.78154955 0.81519976 0.66492725 0.68352535 0.81177234\n",
      " 0.85489946 0.90768586 0.91115136 0.59505186 0.44022351 0.80583248\n",
      " 0.46473674 0.85672889 0.70569827 0.70915303 0.59038033 0.5794721\n",
      " 0.90192997 0.83500419 0.63455491 0.61970477 0.75912742 0.69154993\n",
      " 0.67002579 0.95950652 0.90539817 0.66649873 0.80639105 0.93950528\n",
      " 0.66525621 0.7731212  0.91685801 0.93258293 0.93251406 0.62275632\n",
      " 0.88525307 0.95629735 0.86004852 0.65182621 0.47267061 0.66122041]\n",
      "[0.64916133 0.72319246 0.93534894 0.82161719 0.58010543 0.92955335\n",
      " 0.52394479 0.53929604 0.65966993 0.84041175 0.72162358 0.90930156\n",
      " 0.55264646 0.88798786 0.69818853 0.68758551 0.66698292 0.47966361\n",
      " 0.69109839 0.97571167 0.58657737 0.65268473 0.71038978 0.53186705\n",
      " 0.94999142 0.81035189 0.69371319 0.56258221 0.68188877 0.81250393\n",
      " 0.8094908  0.94735252 0.64584322 0.51077365 0.6613749  0.66643326\n",
      " 0.7201965  0.64437189 0.61530134 0.88096998 0.7424471  0.59837856\n",
      " 0.77667814 0.96120512 0.84893303 0.83567587 0.94889935 0.6483672\n",
      " 0.92235292 0.8591684  0.89511656 0.73010103 0.78591454 0.95214742\n",
      " 0.5747998  0.59049161 0.68795469 0.84501809 0.60309281 0.84659426\n",
      " 0.6611105  0.65563603 0.69848047 0.50959855 0.63049972 0.71931506\n",
      " 0.62133271 0.84328362 0.85774204 0.79722496 0.72270856 0.8193762\n",
      " 0.87298172 0.83133146 0.5219382  0.72120326 0.69237344 0.59437316\n",
      " 0.88114795 0.75821486 0.74745069 0.74047715 0.99642994 0.71419782\n",
      " 0.58926135 0.70860091 0.79816187 0.72606258 0.91475014 0.66178335\n",
      " 0.60211169 0.84371174 0.49367596 0.72026666 0.61369086 0.63387495\n",
      " 0.73539525 0.77320226 0.54194241 0.77864011]\n"
     ]
    }
   ],
   "source": [
    "from sklearn.linear_model import LinearRegression\n",
    "#Call the model\n",
    "lm = LinearRegression()\n",
    "#Fit the model\n",
    "lm.fit(X_train,y_train)\n",
    "#Predict from the model\n",
    "y_pred_train = lm.predict(X_train)\n",
    "y_pred_test = lm.predict(X_test)\n",
    "print(y_pred_train)\n",
    "print(y_pred_test)"
   ]
  },
  {
   "cell_type": "code",
   "execution_count": 11,
   "metadata": {
    "id": "NffCUk2EqNCf"
   },
   "outputs": [],
   "source": [
    "#Such type of Machine learning models can be deployed in a Chatbot to give admission predictions and CIBIL Score prediction"
   ]
  },
  {
   "cell_type": "code",
   "execution_count": 16,
   "metadata": {},
   "outputs": [
    {
     "name": "stdout",
     "output_type": "stream",
     "text": [
      "RMSE for Linear Regression Model with train dataset is:  0.06254944303968513\n",
      "R Squared for the Linear Regression Model with train dataset is :  0.7958850329341665\n"
     ]
    }
   ],
   "source": [
    "#Model Evaluation for Train dataset\n",
    "import numpy as np\n",
    "from sklearn.metrics import mean_squared_error,r2_score\n",
    "mse_train = mean_squared_error(y_train,y_pred_train)\n",
    "rmse_train = np.sqrt(mse_train)\n",
    "r_squared_train = r2_score(y_train,y_pred_train)\n",
    "print('RMSE for Linear Regression Model with train dataset is: ',rmse_train)\n",
    "print('R Squared for the Linear Regression Model with train dataset is : ',r_squared_train)\n"
   ]
  },
  {
   "cell_type": "code",
   "execution_count": 17,
   "metadata": {},
   "outputs": [
    {
     "name": "stdout",
     "output_type": "stream",
     "text": [
      "RMSE for Linear Regression Model with test dataset is:  0.06588497166041547\n",
      "R Squared for the Linear Regression Model with test dataset is :  0.8161147779165655\n"
     ]
    }
   ],
   "source": [
    "#Model Evaluation for Test dataset\n",
    "import numpy as np\n",
    "from sklearn.metrics import mean_squared_error,r2_score\n",
    "mse_test = mean_squared_error(y_test,y_pred_test)\n",
    "rmse_test = np.sqrt(mse_test)\n",
    "r_squared_test = r2_score(y_test,y_pred_test)\n",
    "print('RMSE for Linear Regression Model with test dataset is: ',rmse_test)\n",
    "print('R Squared for the Linear Regression Model with test dataset is : ',r_squared_test)"
   ]
  },
  {
   "cell_type": "code",
   "execution_count": null,
   "metadata": {},
   "outputs": [],
   "source": []
  }
 ],
 "metadata": {
  "colab": {
   "collapsed_sections": [],
   "name": "Linear_Regression_Case1.ipynb",
   "provenance": []
  },
  "kernelspec": {
   "display_name": "Python 3",
   "language": "python",
   "name": "python3"
  },
  "language_info": {
   "codemirror_mode": {
    "name": "ipython",
    "version": 3
   },
   "file_extension": ".py",
   "mimetype": "text/x-python",
   "name": "python",
   "nbconvert_exporter": "python",
   "pygments_lexer": "ipython3",
   "version": "3.7.6"
  }
 },
 "nbformat": 4,
 "nbformat_minor": 1
}
