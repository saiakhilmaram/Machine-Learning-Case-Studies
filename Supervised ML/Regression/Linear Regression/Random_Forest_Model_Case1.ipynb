{
 "cells": [
  {
   "cell_type": "code",
   "execution_count": 1,
   "metadata": {},
   "outputs": [
    {
     "data": {
      "text/html": [
       "<div>\n",
       "<style scoped>\n",
       "    .dataframe tbody tr th:only-of-type {\n",
       "        vertical-align: middle;\n",
       "    }\n",
       "\n",
       "    .dataframe tbody tr th {\n",
       "        vertical-align: top;\n",
       "    }\n",
       "\n",
       "    .dataframe thead th {\n",
       "        text-align: right;\n",
       "    }\n",
       "</style>\n",
       "<table border=\"1\" class=\"dataframe\">\n",
       "  <thead>\n",
       "    <tr style=\"text-align: right;\">\n",
       "      <th></th>\n",
       "      <th>Serial No.</th>\n",
       "      <th>GRE Score</th>\n",
       "      <th>TOEFL Score</th>\n",
       "      <th>University Rating</th>\n",
       "      <th>SOP</th>\n",
       "      <th>LOR</th>\n",
       "      <th>CGPA</th>\n",
       "      <th>Research</th>\n",
       "      <th>Chance of Admit</th>\n",
       "    </tr>\n",
       "  </thead>\n",
       "  <tbody>\n",
       "    <tr>\n",
       "      <th>0</th>\n",
       "      <td>1</td>\n",
       "      <td>337</td>\n",
       "      <td>118</td>\n",
       "      <td>4</td>\n",
       "      <td>4.5</td>\n",
       "      <td>4.5</td>\n",
       "      <td>9.65</td>\n",
       "      <td>1</td>\n",
       "      <td>0.92</td>\n",
       "    </tr>\n",
       "    <tr>\n",
       "      <th>1</th>\n",
       "      <td>2</td>\n",
       "      <td>324</td>\n",
       "      <td>107</td>\n",
       "      <td>4</td>\n",
       "      <td>4.0</td>\n",
       "      <td>4.5</td>\n",
       "      <td>8.87</td>\n",
       "      <td>1</td>\n",
       "      <td>0.76</td>\n",
       "    </tr>\n",
       "    <tr>\n",
       "      <th>2</th>\n",
       "      <td>3</td>\n",
       "      <td>316</td>\n",
       "      <td>104</td>\n",
       "      <td>3</td>\n",
       "      <td>3.0</td>\n",
       "      <td>3.5</td>\n",
       "      <td>8.00</td>\n",
       "      <td>1</td>\n",
       "      <td>0.72</td>\n",
       "    </tr>\n",
       "    <tr>\n",
       "      <th>3</th>\n",
       "      <td>4</td>\n",
       "      <td>322</td>\n",
       "      <td>110</td>\n",
       "      <td>3</td>\n",
       "      <td>3.5</td>\n",
       "      <td>2.5</td>\n",
       "      <td>8.67</td>\n",
       "      <td>1</td>\n",
       "      <td>0.80</td>\n",
       "    </tr>\n",
       "    <tr>\n",
       "      <th>4</th>\n",
       "      <td>5</td>\n",
       "      <td>314</td>\n",
       "      <td>103</td>\n",
       "      <td>2</td>\n",
       "      <td>2.0</td>\n",
       "      <td>3.0</td>\n",
       "      <td>8.21</td>\n",
       "      <td>0</td>\n",
       "      <td>0.65</td>\n",
       "    </tr>\n",
       "  </tbody>\n",
       "</table>\n",
       "</div>"
      ],
      "text/plain": [
       "   Serial No.  GRE Score  TOEFL Score  University Rating  SOP  LOR   CGPA  \\\n",
       "0           1        337          118                  4  4.5   4.5  9.65   \n",
       "1           2        324          107                  4  4.0   4.5  8.87   \n",
       "2           3        316          104                  3  3.0   3.5  8.00   \n",
       "3           4        322          110                  3  3.5   2.5  8.67   \n",
       "4           5        314          103                  2  2.0   3.0  8.21   \n",
       "\n",
       "   Research  Chance of Admit   \n",
       "0         1              0.92  \n",
       "1         1              0.76  \n",
       "2         1              0.72  \n",
       "3         1              0.80  \n",
       "4         0              0.65  "
      ]
     },
     "execution_count": 1,
     "metadata": {},
     "output_type": "execute_result"
    }
   ],
   "source": [
    "import pandas as pd\n",
    "df = pd.read_csv('Admission_Predict.csv')\n",
    "df.head()"
   ]
  },
  {
   "cell_type": "code",
   "execution_count": 4,
   "metadata": {},
   "outputs": [],
   "source": [
    "y = df['Chance of Admit ']\n",
    "X = df.drop(['Serial No.','Chance of Admit '], axis=1)"
   ]
  },
  {
   "cell_type": "code",
   "execution_count": 6,
   "metadata": {},
   "outputs": [
    {
     "name": "stdout",
     "output_type": "stream",
     "text": [
      "[0.9306 0.7723 0.6838 0.791  0.6464 0.9014 0.7302 0.6428 0.5249 0.5478\n",
      " 0.5818 0.8273 0.8011 0.5819 0.6234 0.6028 0.6859 0.6631 0.6775 0.6274\n",
      " 0.6266 0.6708 0.9331 0.9412 0.9665 0.9416 0.7618 0.4604 0.4662 0.5353\n",
      " 0.6305 0.6933 0.9139 0.9131 0.9505 0.8836 0.6391 0.5626 0.5182 0.5197\n",
      " 0.5162 0.5746 0.5844 0.8545 0.9071 0.8727 0.8791 0.9091 0.7982 0.7497\n",
      " 0.734  0.571  0.7303 0.7157 0.6779 0.6291 0.5855 0.4521 0.411  0.5137\n",
      " 0.5503 0.5411 0.5801 0.6088 0.5895 0.6186 0.6691 0.6383 0.7604 0.7989\n",
      " 0.9406 0.9572 0.9204 0.8126 0.7471 0.7241 0.7488 0.6399 0.4355 0.4626\n",
      " 0.5445 0.9537 0.9019 0.9161 0.9324 0.746  0.7003 0.6673 0.6453 0.7499\n",
      " 0.6431 0.4169 0.4653 0.4992 0.3963 0.461  0.5241 0.8386 0.9023 0.7949\n",
      " 0.7149 0.6499 0.629  0.6176 0.7525 0.725  0.8648 0.914  0.9295 0.6948\n",
      " 0.6267 0.7228 0.623  0.7112 0.6328 0.7033 0.5959 0.4595 0.4811 0.7269\n",
      " 0.9397 0.9393 0.6199 0.6343 0.584  0.6663 0.8715 0.7581 0.8161 0.9245\n",
      " 0.9604 0.75   0.6984 0.7716 0.8973 0.797  0.7369 0.6766 0.8027 0.7773\n",
      " 0.8331 0.9083 0.9225 0.9674 0.7975 0.7688 0.7216 0.8262 0.9617 0.7505\n",
      " 0.9202 0.9247 0.8607 0.7511 0.7479 0.752  0.6907 0.6627 0.6251 0.5392\n",
      " 0.5697 0.516  0.6872 0.6839 0.8181 0.8058 0.6585 0.6529 0.5957 0.6133\n",
      " 0.6647 0.8818 0.8501 0.8895 0.8509 0.8258 0.8752 0.7964 0.6874 0.6877\n",
      " 0.6844 0.69   0.638  0.7391 0.7071 0.8597 0.8002 0.9287 0.9251 0.8752\n",
      " 0.8883 0.8575 0.8273 0.9378 0.7559 0.716  0.7058 0.7067 0.7137 0.7295\n",
      " 0.7267 0.6972 0.968  0.9682 0.6739 0.5359 0.6133 0.6457 0.6331 0.6712\n",
      " 0.7974 0.8238 0.9503 0.9607 0.932  0.9239 0.9051 0.8431 0.823  0.725\n",
      " 0.7456 0.737  0.7561 0.7026 0.6576 0.5997 0.6574 0.6618 0.7064 0.8099\n",
      " 0.7305 0.7251 0.697  0.6224 0.9025 0.8861 0.8474 0.8724 0.6933 0.5728\n",
      " 0.588  0.6418 0.726  0.7722 0.6558 0.7928 0.7223 0.6988 0.7958 0.7719\n",
      " 0.7335 0.7156 0.7002 0.9323 0.8481 0.7465 0.7315 0.7588 0.7668 0.9068\n",
      " 0.8688 0.6786 0.7013 0.7223 0.7531 0.7102 0.7024 0.7108 0.8369 0.7461\n",
      " 0.6925 0.5296 0.4886 0.5316 0.5813 0.788  0.8997 0.6729 0.6783 0.6835\n",
      " 0.694  0.7889 0.7854 0.7923 0.9342 0.9204 0.9067 0.8848 0.7888 0.7797\n",
      " 0.5566 0.5661 0.5476 0.6635 0.6169 0.6746 0.7426 0.8506 0.8978 0.7038\n",
      " 0.6025 0.7019 0.6698 0.7156 0.6273 0.7524 0.8053 0.8052 0.6816 0.6865\n",
      " 0.7558 0.844  0.7568 0.6466 0.6499 0.6324 0.547  0.5759 0.771  0.791\n",
      " 0.7211 0.721  0.7026 0.6251 0.6781 0.8074 0.5941 0.6402 0.7908 0.4685\n",
      " 0.7873 0.6866 0.7076 0.7248 0.7339 0.8335 0.718  0.9394 0.7893 0.7813\n",
      " 0.724  0.7739 0.6217 0.6121 0.4618 0.5255 0.4837 0.4484 0.5296 0.6278\n",
      " 0.7347 0.7452 0.6303 0.6473 0.544  0.6775 0.7776 0.6397 0.6138 0.6934\n",
      " 0.8137 0.9308 0.9106 0.6857 0.7676 0.853  0.7388 0.5508 0.5096 0.6117\n",
      " 0.6897 0.8601 0.9439 0.7708 0.4521 0.4129 0.3859 0.4759 0.5141 0.7002\n",
      " 0.7743 0.7388 0.825  0.6304 0.9574 0.9604 0.5127 0.5536 0.5157 0.7428\n",
      " 0.64   0.7089 0.8376 0.7449 0.8886 0.8072 0.8266 0.914  0.7075 0.942 ]\n"
     ]
    }
   ],
   "source": [
    "from sklearn.ensemble import RandomForestRegressor\n",
    "#Call the model\n",
    "rf = RandomForestRegressor()\n",
    "#Fit the model\n",
    "rf.fit(X,y)\n",
    "#Predict from the model\n",
    "y_pred = rf.predict(X)\n",
    "print(y_pred)"
   ]
  },
  {
   "cell_type": "code",
   "execution_count": 9,
   "metadata": {},
   "outputs": [
    {
     "name": "stdout",
     "output_type": "stream",
     "text": [
      "RMSE for Linear Regression Model is:  0.026772503151554577\n",
      "R Squared for the Linear Regression Model is :  0.9646679226695583\n"
     ]
    }
   ],
   "source": [
    "#Model Evaluation\n",
    "import numpy as np\n",
    "from sklearn.metrics import mean_squared_error,r2_score\n",
    "mse = mean_squared_error(y,y_pred)\n",
    "rmse = np.sqrt(mse)\n",
    "r_squared = r2_score(y,y_pred)\n",
    "print('RMSE for Linear Regression Model is: ',rmse)\n",
    "print('R Squared for the Linear Regression Model is : ',r_squared)"
   ]
  },
  {
   "cell_type": "code",
   "execution_count": null,
   "metadata": {},
   "outputs": [],
   "source": []
  },
  {
   "cell_type": "code",
   "execution_count": null,
   "metadata": {},
   "outputs": [],
   "source": []
  },
  {
   "cell_type": "code",
   "execution_count": null,
   "metadata": {},
   "outputs": [],
   "source": []
  }
 ],
 "metadata": {
  "kernelspec": {
   "display_name": "Python 3",
   "language": "python",
   "name": "python3"
  },
  "language_info": {
   "codemirror_mode": {
    "name": "ipython",
    "version": 3
   },
   "file_extension": ".py",
   "mimetype": "text/x-python",
   "name": "python",
   "nbconvert_exporter": "python",
   "pygments_lexer": "ipython3",
   "version": "3.7.6"
  }
 },
 "nbformat": 4,
 "nbformat_minor": 4
}
